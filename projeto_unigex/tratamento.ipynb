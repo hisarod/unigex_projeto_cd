{
 "cells": [
  {
   "cell_type": "markdown",
   "id": "47979652",
   "metadata": {},
   "source": [
    "1.Importando as Bibliotecas"
   ]
  },
  {
   "cell_type": "code",
   "execution_count": 1,
   "id": "6e1498cf",
   "metadata": {},
   "outputs": [],
   "source": [
    "import pandas as pd\n",
    "from joblib import load, dump "
   ]
  },
  {
   "cell_type": "markdown",
   "id": "39f086e3",
   "metadata": {},
   "source": [
    "2.Carregar Dataframes "
   ]
  },
  {
   "cell_type": "code",
   "execution_count": 2,
   "id": "9837b0b0",
   "metadata": {},
   "outputs": [],
   "source": [
    "categorias = load(\"../../util/data/df_categorias.z\")\n",
    "produtos = load(\"../../util/data/df_produtos.z\")\n",
    "unidades = load(\"../../util/data/df_unidades.z\")\n",
    "vendas = load(\"../../util/data/df_vendas.z\")"
   ]
  },
  {
   "cell_type": "markdown",
   "id": "e0599d57",
   "metadata": {},
   "source": [
    "3.Função para mesclar entradas com o nome mais curto e evitar duplicatas"
   ]
  },
  {
   "cell_type": "code",
   "execution_count": 3,
   "id": "dfeccc05",
   "metadata": {},
   "outputs": [],
   "source": [
    "def merge_similar_descriptions(desc1, desc2):\n",
    "    # Verifica se uma descrição está contida na outra\n",
    "    if desc1.lower() in desc2.lower() or desc2.lower() in desc1.lower():\n",
    "        return min(desc1, desc2, key=len)  # Retorna o nome com menos caracteres\n",
    "    return None \n",
    "\n",
    "descs = categorias['descricao'].tolist()\n",
    "substituicoes = {}\n",
    "\n",
    "# Comparando todas as descrições\n",
    "for i, desc1 in enumerate(descs):\n",
    "    for j, desc2 in enumerate(descs):\n",
    "        if i != j and desc2 not in substituicoes:\n",
    "            nova = merge_similar_descriptions(desc1, desc2)\n",
    "            if nova:\n",
    "                substituicoes[desc2] = nova\n"
   ]
  },
  {
   "cell_type": "markdown",
   "id": "a8dbb2fa",
   "metadata": {},
   "source": [
    "4.Tratammento de Dados - Categorias "
   ]
  },
  {
   "cell_type": "code",
   "execution_count": 4,
   "id": "214d677a",
   "metadata": {},
   "outputs": [
    {
     "name": "stdout",
     "output_type": "stream",
     "text": [
      "object\n",
      "     id                         descricao\n",
      "0    41                        COMPUTADOR\n",
      "1    64                             PASTA\n",
      "2   342                            CANETA\n",
      "3    51                          PRESENTE\n",
      "4   346         MATERIAL DE USO E CONSUMO\n",
      "5    62                          ALIMENTO\n",
      "6    40                              CABO\n",
      "7   103            MIDIA DE ARMAZENAMENTO\n",
      "8   215                             DRONE\n",
      "9     5                    SOM AUTOMOTIVO\n",
      "10    8                               GPS\n",
      "11   10                         TELEVISAO\n",
      "12   11                            BEBIDA\n",
      "13    6                         ACESSORIO\n",
      "14    7                             TINTA\n",
      "15   14             MATERIAL DE EMBALAGEM\n",
      "16    3               MATERIAL DE LIMPEZA\n",
      "17    9                          ENVELOPE\n",
      "18    2                             LIVRO\n",
      "19    4                      CAIXA DE SOM\n",
      "20  365                            MOVEIS\n",
      "21  366                             SOFAS\n",
      "22  367                          SERVICOS\n",
      "23  368                          PARAFUSO\n",
      "24  369                         SUSPENSAO\n",
      "25  370       SERVICO SISTEMA TRANSMISSAO\n",
      "26  371                           DIRECAO\n",
      "27  373             SERVICO TERCEIRIZADOS\n",
      "28  374        SERVICO INJECAO ELETRONICA\n",
      "29  376                  SERVICO ELETRICO\n",
      "30  378               ESTETICA AUTOMOTIVA\n",
      "31  382                            FREIOS\n",
      "32  384                             MOTOR\n",
      "33  386  SERVICO SISTEMA DE ARREFECIMENTO\n",
      "34  388       SERVICO FUNILARIA E PINTURA\n",
      "35  390           SERVICO AR CONDICIONADO\n",
      "36  401                  SISTEMA ELETRICO\n",
      "37  403           SISTEMA AR CONDICIONADO\n",
      "38  405             SISTEMA ARREFECIMENTO\n",
      "39  409                             PECAS\n",
      "40  413                           BATERIA\n",
      "41  415                             PNEUS\n",
      "42  417        MATERIAIS DE USO E CONSUMO\n",
      "43  419                           VEICULO\n"
     ]
    }
   ],
   "source": [
    "print(categorias['descricao'].dtype)\n",
    "\n",
    "categorias['descricao'] = categorias['descricao'].astype(str).str.upper().str.replace(r'[^A-Z ]', '', regex=True)\n",
    "categorias['descricao'] = categorias['descricao'].replace(substituicoes)\n",
    "categorias.drop_duplicates(subset='descricao', keep='first',inplace= True)\n",
    "\n",
    "categorias.reset_index(drop=True, inplace=True) \n",
    "\n",
    "dump(categorias, \"../../util/data/df_categorias.z\")\n",
    "\n",
    "print(categorias)"
   ]
  },
  {
   "cell_type": "markdown",
   "id": "fc5ffb4b",
   "metadata": {},
   "source": [
    ".Verifica o tipo de dado da coluna descricao \n",
    "\n",
    ".Remove símbolos (mantendo só letras maiúsculas e espaço)\n",
    "\n",
    "\n",
    ".Elimina as entradas duplicadas e entradas com nomes semelhantes, mantendo apenas a primeira.\n"
   ]
  },
  {
   "cell_type": "markdown",
   "id": "ab0fb683",
   "metadata": {},
   "source": [
    "5.Tratamento de Dados - Produtos"
   ]
  },
  {
   "cell_type": "code",
   "execution_count": 5,
   "id": "87fe288f",
   "metadata": {},
   "outputs": [
    {
     "name": "stdout",
     "output_type": "stream",
     "text": [
      "Número de valores nulos na coluna preco_venda: 0\n"
     ]
    }
   ],
   "source": [
    "# produtos com preco_venda ausente ou igual a zero\n",
    "\n",
    "precos_originais = produtos['preco_venda'].copy()\n",
    "\n",
    "# Criar uma máscara que marca os valores que serão modificados\n",
    "mask_modificados = (produtos['preco_venda'].isna()) | (produtos['preco_venda'] == 0) \n",
    "\n",
    "medianas = produtos[produtos['preco_venda'] > 0].groupby('categoria')['preco_venda'].median()\n",
    "\n",
    "for categoria, mediana in medianas.items():\n",
    "    mask = (produtos['categoria'] == categoria) & mask_modificados\n",
    "    produtos.loc[mask, 'preco_venda'] = mediana \n",
    "\n",
    "produtos_modificados = produtos[mask_modificados]\n",
    "\n",
    "nulos_preco_venda = produtos['preco_venda'].isnull().sum()\n",
    "\n",
    "print(f'Número de valores nulos na coluna preco_venda: {nulos_preco_venda}') \n"
   ]
  },
  {
   "cell_type": "code",
   "execution_count": 6,
   "id": "4d4cdc7e",
   "metadata": {},
   "outputs": [
    {
     "name": "stdout",
     "output_type": "stream",
     "text": [
      "          id                          descricao unidade  marca  \\\n",
      "1     194412                   CANETA REF 35633      UN    BIC   \n",
      "3     006467                    CANETA REF 5968      UN    BIC   \n",
      "4     004559                    CANETA REF 4092      UN    BIC   \n",
      "5     006654                  ENVELOPE REF 6152      UN     3M   \n",
      "6     005543                    CANETA REF 5066      UN    BIC   \n",
      "...      ...                                ...     ...    ...   \n",
      "9474  188898                   CANETA REF 30243      UN    BIC   \n",
      "9475  196155  SOFA MAGIC HOLE A4 BRANCO/LARANJA      UN   SONY   \n",
      "9476  196156         SOFA SLIM LINE 4 LUG CHALK      UN   SONY   \n",
      "9477  196157         CHAISE NORONHA C/BR LD DIR      UN  GALLO   \n",
      "9590     NaN           PAPEL DE PAREDE LISTRADO     ROL    NaN   \n",
      "\n",
      "      codigo_categoria  categoria  preco_venda  \n",
      "1                  342     CANETA         8.93  \n",
      "3                  342     CANETA         8.38  \n",
      "4                  342     CANETA        67.91  \n",
      "5                    9   ENVELOPE       441.54  \n",
      "6                  342     CANETA        14.74  \n",
      "...                ...        ...          ...  \n",
      "9474               342     CANETA        28.15  \n",
      "9475               366      SOFAS      5000.00  \n",
      "9476               366      SOFAS     30690.00  \n",
      "9477               365     MOVEIS     39783.00  \n",
      "9590                 6  ACESSORIO       500.00  \n",
      "\n",
      "[9199 rows x 7 columns]\n"
     ]
    }
   ],
   "source": [
    "# conversão\n",
    "produtos['codigo_categoria'] = produtos['codigo_categoria'].astype('Int64')\n",
    "\n",
    "#Remoção\n",
    "produtos.drop(columns=['classificacao'], inplace=True, errors='ignore')\n",
    "\n",
    "# Substituir valores específicos\n",
    "produtos.loc[produtos['unidade'] == 'UNIDADE', 'unidade'] = 'UN'\n",
    "produtos.loc[produtos['unidade'] == 'CAIXA', 'unidade'] = 'CX'\n",
    "\n",
    "# Preencher valores nulos com 'UN'\n",
    "produtos['unidade'] = produtos['unidade'].apply(lambda x: 'UN' if pd.isna(x) else x) \n",
    "\n",
    "# Removendo a coluna \n",
    "\n",
    "produtos.drop(columns=['codigo_barras'], inplace=True, errors='ignore')\n",
    "\n",
    "dump(produtos, \"../../util/data/df_produtos.z\")\n",
    "\n",
    "print(produtos)"
   ]
  },
  {
   "cell_type": "markdown",
   "id": "180f4a83",
   "metadata": {},
   "source": [
    ". A coluna 'codigo_categoria' é convertida para tipo Int64, permitindo valores nulos.\n",
    "\n",
    ". A coluna 'classificacao' é removida, se existir.\n",
    "\n",
    ". A coluna 'unidade' é padronizada (por exemplo, \"UNIDADE\" se torna \"UN\" e \"CAIXA\" se torna \"CX\"), assim como os valores nulos\n",
    "com 'UN'.\n",
    "\n",
    ". Registros com valor nulo na coluna 'preco_venda' são modificados pela mediana da sua respectiva categoria.\n",
    "\n",
    ". O DataFrame tratado foi salvo novamente no mesmo arquivo df_produtos.z.\n",
    "\n",
    ".  Removendo a coluna código de barras."
   ]
  },
  {
   "cell_type": "markdown",
   "id": "9ffaca40",
   "metadata": {},
   "source": [
    "6.Tratamento de Dados -  Unidades "
   ]
  },
  {
   "cell_type": "code",
   "execution_count": 7,
   "id": "4118dd5e",
   "metadata": {},
   "outputs": [
    {
     "name": "stdout",
     "output_type": "stream",
     "text": [
      "\n",
      "Unidades tratadas:\n",
      "      id    nome_fantasia status\n",
      "0  10003   L03 - SALVADOR    sim\n",
      "1  10002     L02 - SOBRAL    sim\n",
      "2  10001  L01 - FORTALEZA    sim\n",
      "\n",
      "Unidades tratadas:\n",
      "      id    nome_fantasia status\n",
      "0  10003   L03 - SALVADOR    sim\n",
      "1  10002     L02 - SOBRAL    sim\n",
      "2  10001  L01 - FORTALEZA    sim\n",
      "\n",
      "Unidades tratadas:\n",
      "      id    nome_fantasia status\n",
      "0  10003   L03 - SALVADOR    sim\n",
      "1  10002     L02 - SOBRAL    sim\n",
      "2  10001  L01 - FORTALEZA    sim\n"
     ]
    }
   ],
   "source": [
    "cols = ['nome', 'cidade', 'estado']\n",
    "for col in cols:\n",
    "    if col in unidades.columns:\n",
    "        unidades[col] = (unidades[col].astype(str).str.strip().str.upper().str.replace(r'[^A-Z \\-]', '', regex=True))\n",
    "    unidades.drop_duplicates(inplace=True)\n",
    "    unidades.reset_index(drop=True, inplace=True)\n",
    "    \n",
    "    dump(unidades, \"../../util/data/df_unidades.z\")\n",
    "    print(\"\\nUnidades tratadas:\")\n",
    "    print(unidades)"
   ]
  },
  {
   "cell_type": "markdown",
   "id": "d7042afe",
   "metadata": {},
   "source": [
    "Se o DataFrame unidades não estiver vazio:\n",
    "\n",
    ".Letras maiúsculas, o hífen e o espaço sem outros símbolos ou números nas colunas 'nome', 'cidade' e 'estado', se estas existirem.\n",
    "\n",
    ".Linhas duplicadas são removidas.\n",
    "\n",
    ".Os índices são reorganizados após a remoção das duplicatas.\n",
    "\n",
    ".O DataFrame tratado foi salvo novamente no mesmo arquivo df_unidades.z."
   ]
  },
  {
   "cell_type": "markdown",
   "id": "46d2e264",
   "metadata": {},
   "source": [
    "7.Tratamento de Dados - Vendas"
   ]
  },
  {
   "cell_type": "code",
   "execution_count": 8,
   "id": "172afd3a",
   "metadata": {},
   "outputs": [
    {
     "name": "stdout",
     "output_type": "stream",
     "text": [
      "\n",
      "Vendas tratadas:\n",
      "       codigo_empresa tipo_pedido  centro_resultado  documento  \\\n",
      "0                   2          PV                 2      24560   \n",
      "1                   1          PV                 2      22433   \n",
      "2                   2          PV                 2      24560   \n",
      "3                   2          PV                 2      24560   \n",
      "4                   2          PV                 2      24560   \n",
      "...               ...         ...               ...        ...   \n",
      "10413               3          OA                 7      24593   \n",
      "10414               3          OA                 7      24593   \n",
      "10415               3          OA                 7      24593   \n",
      "10416               3          OA                 7      24593   \n",
      "10417               1          PV                 7      24601   \n",
      "\n",
      "       codigo_cliente  codigo_empregado data_emissao hora_emissao  \\\n",
      "0                4395                56   2023-03-21     12:10:07   \n",
      "1                 236                 9   2023-02-13     10:40:44   \n",
      "2                4395                56   2023-03-21     12:10:07   \n",
      "3                4395                56   2023-03-21     12:10:07   \n",
      "4                4395                56   2023-03-21     12:10:07   \n",
      "...               ...               ...          ...          ...   \n",
      "10413            9728                77   2025-02-17     12:29:03   \n",
      "10414            9728                77   2025-02-17     12:29:03   \n",
      "10415            9728                77   2025-02-17     12:29:03   \n",
      "10416            9728                77   2025-02-17     12:29:03   \n",
      "10417            8814                 8   2025-02-28     15:47:23   \n",
      "\n",
      "      data_fechamento hora_fechamento data_faturamento  codigo_produto  \\\n",
      "0          2023-03-21        12:12:40       2023-03-21          194959   \n",
      "1          2023-04-27        07:18:40       2023-04-27          195052   \n",
      "2          2023-03-21        12:12:40       2023-03-21             164   \n",
      "3          2023-03-21        12:12:40       2023-03-21             201   \n",
      "4          2023-03-21        12:12:40       2023-03-21          191696   \n",
      "...               ...             ...              ...             ...   \n",
      "10413      2025-02-17        12:50:56              NaN          190962   \n",
      "10414      2025-02-17        12:50:56              NaN               4   \n",
      "10415      2025-02-17        12:50:56              NaN               5   \n",
      "10416      2025-02-17        12:50:56              NaN               6   \n",
      "10417      2025-02-28        16:03:29       2025-04-03          194191   \n",
      "\n",
      "       quantidade    total  custo_medio  valor_desconto  \n",
      "0             8.0    64.00       5.2870           20.64  \n",
      "1             6.0    75.00       5.2931            0.00  \n",
      "2             3.0    75.00      15.3550           16.80  \n",
      "3             3.0   144.00      31.3017           54.72  \n",
      "4             2.0    60.00      15.3650           11.84  \n",
      "...           ...      ...          ...             ...  \n",
      "10413         1.0   133.50      29.4700            0.00  \n",
      "10414         1.0   123.20      44.1800            0.00  \n",
      "10415         2.0   430.96      67.7800            0.00  \n",
      "10416         3.0   471.63      63.7000            0.00  \n",
      "10417         1.0  1354.34      47.4600            0.00  \n",
      "\n",
      "[10418 rows x 16 columns]\n"
     ]
    }
   ],
   "source": [
    "if not vendas.empty:\n",
    "    cols_to_drop = vendas.columns[vendas.isna().mean() > 0.8]\n",
    "    vendas.drop(columns=cols_to_drop, inplace=True, errors='ignore')\n",
    "    for col in ['quantidade', 'valor_total']:\n",
    "        if col in vendas.columns:\n",
    "            vendas[col] = vendas[col].fillna(0)\n",
    "    vendas.drop_duplicates(inplace=True)\n",
    "    vendas.reset_index(drop=True, inplace=True)\n",
    "    dump(vendas, \"../../util/data/df_vendas.z\")\n",
    "    print(\"\\nVendas tratadas:\")\n",
    "    print(vendas)"
   ]
  },
  {
   "cell_type": "markdown",
   "id": "3f4329b8",
   "metadata": {},
   "source": [
    "Se o DataFrame vendas não estiver vazio:\n",
    "\n",
    ".Colunas com mais de 80% de valores ausentes (NaN) são removidas.\n",
    "\n",
    ".As colunas 'quantidade' e 'valor_total' têm os valores nulos preenchidos com zero.\n",
    "\n",
    ".Linhas duplicadas são removidas.\n",
    "\n",
    ".Os índices são reorganizados após a remoção das duplicatas.\n",
    "\n",
    ".O DataFrame tratado foi salvo novamente no mesmo arquivo df_vendas.z."
   ]
  }
 ],
 "metadata": {
  "kernelspec": {
   "display_name": "Python 3",
   "language": "python",
   "name": "python3"
  },
  "language_info": {
   "codemirror_mode": {
    "name": "ipython",
    "version": 3
   },
   "file_extension": ".py",
   "mimetype": "text/x-python",
   "name": "python",
   "nbconvert_exporter": "python",
   "pygments_lexer": "ipython3",
   "version": "3.12.4"
  }
 },
 "nbformat": 4,
 "nbformat_minor": 5
}
