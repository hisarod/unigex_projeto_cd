{
  "nbformat": 4,
  "nbformat_minor": 0,
  "metadata": {
    "colab": {
      "provenance": []
    },
    "kernelspec": {
      "name": "python3",
      "display_name": "Python 3"
    },
    "language_info": {
      "name": "python"
    }
  },
  "cells": [
    {
      "cell_type": "markdown",
      "source": [
        "# **DOCUMENTAÇÃO DA LIMPEZA e PREPARAÇÃO DE DADOS**\n",
        "\n",
        "### 1 - VISÃO GERAL\n",
        "Utilizar técnicas para a boa organização dos dados de forma que a boa execução do projeto aconteça sem prejuízos principalmente de tempo, dinheiro e disponibilidade de mão de obra."
      ],
      "metadata": {
        "id": "arxlDh0y_G2g"
      }
    },
    {
      "cell_type": "markdown",
      "source": [
        "### 2 - OJETIVOS ###\n",
        "\n",
        "O processo de limpeza e preparação contribui para:\n",
        "\n",
        "\n",
        "✅ Obtençao de dados qualificados sem insconsistências como valores nulos ou duplicados e a padronização de informações como datas, por exemplo;\n",
        "\n",
        "✅ Transformação de dados em informações executáveis nos ambientes de análise como Python e SQL, adequando os seus formatos para estruturas facilitadoas como por exemplo, os dashboards;\n",
        "\n",
        "✅ Barrar dados sujos que podem inviabilizar as análises, as quais resultam em análises erradas;\n",
        "\n",
        "Exemplo: calcular os itens mais vendidos com uma base de dados incompleta.\n",
        "\n",
        "✅ Rapidez do processamento dos dados com o uso de planilhas organizadas que ajudam o computador a trabalhar de forma mais eficiente. Por exemplo, dados bem definidos (Excel ou no SQL), são mais fáceis de filtrar e somar;\n",
        "\n",
        "\n",
        "✅ Compartilhar as informações entre fontes de dados como planilhas, por exemplo. Tipo CSV ou Excel usam caracteres próprios que se não organizam inviabilizam a leitura."
      ],
      "metadata": {
        "id": "K7x2T0zCos-9"
      }
    },
    {
      "cell_type": "markdown",
      "source": [
        "## 3 - Dados utilizados ##\n"
      ],
      "metadata": {
        "id": "zyVy9Ldset3t"
      }
    },
    {
      "cell_type": "markdown",
      "source": [
        "**3.1 - Arquivos**\n",
        "\n",
        "**Arquivos exportados do Github em 22/04/2025:**\n",
        "\n",
        "**Link dos arquivos:** https://github.com/capacitabrasil/e4-6-18-unigex-cr-projeto03/tree/main/util/data\n",
        "\n",
        "**Observação:** Data aproximada porque não lembro exatamente a data em que os arquivos foram\n",
        "exportados do github do grupo do projeto.\n",
        "\n",
        "**Arquivos originais e Descrições**\n",
        "\n",
        "df_unidades.z\n",
        "Filiais das empresas\n",
        "\n",
        "df_produtos.z\n",
        "Portifólio dos produtos\n",
        "\n",
        "df_categorias.z\n",
        "Tipos dos produtos\n",
        "\n",
        "df_vendas.z\n",
        "Registro das vendas\n",
        "\n",
        "**Arquivos tratados**\n",
        "[padronizado_categorias.ipynb](https://github.com/capacitabrasil/e4-6-18-unigex-cr-projeto03/blob/main/data%20science/tailany/padronizado_categorias.ipynb)\n",
        "- [padronizado_produtos.ipynb](https://github.com/capacitabrasil/e4-6-18-unigex-cr-projeto03/blob/main/data%20science/tailany/padronizado_produtos.ipynb)\n",
        "- [padronizado_unidades.ipynb](https://github.com/capacitabrasil/e4-6-18-unigex-cr-projeto03/blob/main/data%20science/tailany/padronizado_unidades.ipynb)\n",
        "- [padronizado_vendas.ipynb](https://github.com/capacitabrasil/e4-6-18-unigex-cr-projeto03/blob/main/data%20science/tailany/padronizado_vendas.ipynb)\n",
        "\n",
        "Observação: Uso esses arquivos.ipnb ou arquivo.z na parte de arquivos tratados?"
      ],
      "metadata": {
        "id": "DDI_u0UZqc46"
      }
    },
    {
      "cell_type": "markdown",
      "source": [
        "**3.2 - Problemas identificados**\n",
        "\n",
        "**df_unidades.z**\n",
        "\n",
        "- Nenhum problema identificado\n",
        "\n",
        "**df_produtos.z**\n",
        "\n",
        "- Alguns produtos como “CANETA REF 35629” estão com preço zero;\n",
        "- Variação de preço para as mesmas catégorias (Caneta de 0.00 a 67.91);\n",
        "- Registros consecutivos de parafusos com preço de venda zerada (0.00), classificados como “MERCADORIA PARA REVENDA”;\n",
        "- A coluna preco_venda tem muitos itens com preços zerados e valores diferentes.\n",
        "\n",
        "**Sugestões de alteração:**\n",
        "- A coluna id tem id grandes e pequenas ou seja com números em quantidade de caracteres diferentes;\n",
        "- A coluna classificação eu tiraria, pq tem a mesma informação. Poderia ser transformada em um título;\n",
        "\n",
        "\n",
        "**df_categorias.z**\n",
        "\n",
        "- Descrição duplicada, exemplo: múltiplas entradas para \"MOTOR\", \"FREIOS\"\n",
        "- Todas as descrições em maiusculo, o que pode dificultar a leitura.\n",
        "- Possíveis redundâncias, exemplo: “SERVICO FREIO” e “FREIOS”\n",
        "- “SISTEMA DIRECAO” aparece duas vezes com IDs diferentes.\n",
        "- Registro de procutos e ou serviços iguais, mas com diferentes grafias (ex. Servico e Serviço;\n",
        "\n",
        "**df_vendas.z**\n",
        "\n",
        "- Dados faltantes “NaN”\n",
        "\n",
        "**Sugestões de alteração:**\n",
        "- Colunas de quantidades precisam ser padronizadas assim como a Total"
      ],
      "metadata": {
        "id": "6tlaG-zbqhj9"
      }
    },
    {
      "cell_type": "markdown",
      "source": [
        "###4 - Limpeza dos dados:###\n",
        "\n",
        "a) Foi criado uma função para ser usada no processo de limpeza\n",
        "\n",
        "def merge_similar_descriptions(desc1, desc2):\n",
        "    # Verifica se uma descrição está contida na outra\n",
        "    if desc1.lower() in desc2.lower() or desc2.lower() in desc1.lower():\n",
        "        return min(desc1, desc2, key=len)  # Retorna o nome com menos caracteres\n",
        "    return None\n",
        "\n",
        "descs = categorias['descricao'].tolist()\n",
        "substituicoes = {}\n",
        "\n",
        "b) Comparando todas as descrições\n",
        "for i, desc1 in enumerate(descs):\n",
        "    for j, desc2 in enumerate(descs):\n",
        "        if i != j and desc2 not in substituicoes:\n",
        "            nova = merge_similar_descriptions(desc1, desc2)\n",
        "            if nova:\n",
        "                substituicoes[desc2] = nova"
      ],
      "metadata": {
        "id": "LDWTCcDMqIxQ"
      }
    },
    {
      "cell_type": "markdown",
      "source": [
        "**4.1 - Produtos**"
      ],
      "metadata": {
        "id": "UwZeGGTNyKW2"
      }
    },
    {
      "cell_type": "markdown",
      "source": [
        "**Problema**\n",
        "\n",
        "- Alguns produtos como “CANETA REF 35629” estão com preço zero;\n",
        "- Variação de preço para as mesmas catégorias (Caneta de 0.00 a 67.91);\n",
        "- Registros consecutivos de parafusos com preço de venda zerada (0.00), classificados como “MERCADORIA PARA REVENDA”;\n",
        "- A coluna preco_venda tem muitos itens com preços zerados e valores diferentes.\n",
        "\n",
        "**Soluções:**\n",
        "\n",
        "Códigos usados para solucionar os problemas encontrados:**\n",
        "\n",
        "Produtos com preço zero:\n",
        "\n",
        "a) Produtos com preco_venda ausente ou igual a zero:\n",
        "\n",
        "precos_originais = produtos['preco_venda'].copy()\n",
        "\n",
        "b) Criar uma máscara que marca os valores que serão modificados:\n",
        "\n",
        "mask_modificados = (produtos['preco_venda'].isna()) | (produtos['preco_venda'] == 0)\n",
        "medianas = produtos[produtos['preco_venda'] > 0].groupby('categoria')['preco_venda'].median()  \n",
        "\n",
        "c) Calcula medianas por categoria:\n",
        "\n",
        "for categoria, mediana in medianas.items():\n",
        "    mask = (produtos['categoria'] == categoria) & mask_modificados\n",
        "    produtos.loc[mask, 'preco_venda'] = mediana  > Substitui zeros pela mediana da categoria\n",
        "\n",
        "d) Conversão:\n",
        "\n",
        "produtos['codigo_categoria'] = produtos['codigo_categoria'].astype('Int64')\n",
        "\n",
        "e) Remoção:\n",
        "\n",
        "produtos.drop(columns=['classificacao'], inplace=True, errors='ignore')\n",
        "\n",
        "d) Substituir valores específicos:\n",
        "\n",
        "produtos.loc[produtos['unidade'] == 'UNIDADE', 'unidade'] = 'UN'\n",
        "produtos.loc[produtos['unidade'] == 'CAIXA', 'unidade'] = 'CX'\n",
        "\n",
        "e) Preencher valores nulos com 'UN':\n",
        "\n",
        "produtos['unidade'] = produtos['unidade'].apply(lambda x: 'UN' if pd.isna(x) else x)\n",
        "\n",
        "f) Removendo a coluna:\n",
        "\n",
        "produtos.drop(columns=['codigo_barras'], inplace=True, errors='ignore')\n",
        "dump(produtos, \"../../util/data/df_produtos.z\")\n",
        "\n",
        "Visualizar as alterações implementadas:\n",
        "print(produtos)"
      ],
      "metadata": {
        "id": "6hYKD4-oq5pb"
      }
    },
    {
      "cell_type": "markdown",
      "source": [
        "**4.2 - Categorias**"
      ],
      "metadata": {
        "id": "QhrXCfCAq-t2"
      }
    },
    {
      "cell_type": "markdown",
      "source": [
        "**Problema**\n",
        "\n",
        "- Descrição duplicada, exemplo: múltiplas entradas para \"MOTOR\", \"FREIOS\"\n",
        "- Todas as descrições em maiusculo, o que pode dificultar a leitura.\n",
        "- Possíveis redundâncias, exemplo: “SERVICO FREIO” e “FREIOS”\n",
        "- “SISTEMA DIRECAO” aparece duas vezes com IDs diferentes.\n",
        "- Registro de procutos e ou serviços iguais, mas com diferentes grafias (ex. Servico e Serviço;\n",
        "\n",
        "**Soluções**\n",
        "\n",
        "a) Verifica o tipo de dado da coluna descricao:\n",
        "\n",
        "print(categorias['descricao'].dtype)\n",
        "\n",
        "b) Remove símbolos (mantendo só letras maiúsculas e espaço):\n",
        "\n",
        "categorias['descricao'] = categorias['descricao'].astype(str).str.upper().str.replace(r'[^A-Z ]', '', regex=True)\n",
        "categorias['descricao'] = categorias['descricao'].replace(substituicoes)\n",
        "\n",
        "c) Elimina as entradas duplicadas e entradas com nomes semelhantes, mantendo apenas a primeira:\n",
        "\n",
        "categorias.drop_duplicates(subset='descricao', keep='first',inplace= True)\n",
        "categorias.reset_index(drop=True, inplace=True)\n",
        "dump(categorias, \"../../util/data/df_categorias.z\")\n",
        "\n",
        "Visualização das alterações:\n",
        "\n",
        "print(categorias)"
      ],
      "metadata": {
        "id": "swaHn06JwaOF"
      }
    },
    {
      "cell_type": "markdown",
      "source": [
        "**4.3 Unidades**"
      ],
      "metadata": {
        "id": "0IJH4A8xxhpY"
      }
    },
    {
      "cell_type": "markdown",
      "source": [
        "**Problemas ou Ajustes:**\n",
        "- Não foram encontrados problemas, mas algumas verificações e ajustes foram necessários.\n",
        "\n",
        "**Soluções:**\n",
        "\n",
        "a) Colunas que serão processadas ('nome', 'cidade', 'estado'):\n",
        "\n",
        "cols = ['nome', 'cidade', 'estado']\n",
        "\n",
        "b) Loop de processamento das colunas da lista:\n",
        "\n",
        "for col in cols:\n",
        "    if col in unidades.columns:\n",
        "\n",
        "c) Verificação da existência da coluna atual no DataFrame unidades:\n",
        "\n",
        "c.1) Converte para string;\n",
        "\n",
        "c.2) Remove espaços em branco no início e fim;\n",
        "\n",
        "c.3) Converte para maiúsculas;\n",
        "\n",
        "c.4) Remove tudo exceto letras maiúsculas, hífen e espaço\n",
        "\n",
        "        unidades[col] = (unidades[col].astype(str).str.strip().str.upper().str.replace(r'[^A-Z \\-]', '', regex=True))\n",
        "\n",
        "d) Remoção de linhas duplicadas:\n",
        "\n",
        "    unidades.drop_duplicates(inplace=True)\n",
        "\n",
        "e) Reordenação dos índices após a remoção de duplicatas:\n",
        "\n",
        "    unidades.reset_index(drop=True, inplace=True)\n",
        "\n",
        "d) Salva o dataframe processado:\n",
        "\n",
        "    dump(unidades, \"../../util/data/df_unidades.z\")\n",
        "    print(\"\\nUnidades tratadas:\")\n",
        "    print(unidades)"
      ],
      "metadata": {
        "id": "MUfK725jzIGw"
      }
    },
    {
      "cell_type": "markdown",
      "source": [
        "**4.4 - Vendas**"
      ],
      "metadata": {
        "id": "XFOgECKW4nfh"
      }
    },
    {
      "cell_type": "markdown",
      "source": [
        "**Problemas**\n",
        "\n",
        "- Dados faltantes “NaN”\n",
        "\n",
        "**Soluções:**\n",
        "\n",
        "if not vendas.empty:\n",
        "\n",
        "a) Remover colunas com grande quantidade de valores ausentes:\n",
        "\n",
        "    cols_to_drop = vendas.columns[vendas.isna().mean() > 0.8]\n",
        "    vendas.drop(columns=cols_to_drop, inplace=True, errors='ignore')\n",
        "\n",
        "b) Preencher os valores nulos:\n",
        "\n",
        "    for col in ['quantidade', 'valor_total']:\n",
        "        if col in vendas.columns:\n",
        "            vendas[col] = vendas[col].fillna(0)\n",
        "\n",
        "c) Remover as duplicatas:\n",
        "\n",
        "    vendas.drop_duplicates(inplace=True)\n",
        "\n",
        "d) Reordenação dos índices:\n",
        "\n",
        "    vendas.reset_index(drop=True, inplace=True)\n",
        "\n",
        "e) Salva e Visualiza oa arquivo alterado:\n",
        "\n",
        "    dump(vendas, \"../../util/data/df_vendas.z\")\n",
        "    print(\"\\nVendas tratadas:\")\n",
        "    print(vendas)"
      ],
      "metadata": {
        "id": "c-GpFcae4qKg"
      }
    },
    {
      "cell_type": "markdown",
      "source": [
        "###5 - Padronização e Normalização###"
      ],
      "metadata": {
        "id": "T1vj4Vd-5_zA"
      }
    },
    {
      "cell_type": "markdown",
      "source": [
        "**5.1 - Objetivo**\n",
        "\n",
        "Aplicar técnicas de normalização, padronização e transformação categórica, assegurando que os dados estejam consistentes, na mesma escala e com formatação adequada. Isso permite uma análise mais precisa, visualizações corretas e evita distorções nos resultados.\n"
      ],
      "metadata": {
        "id": "4Tp5yAKFPV5g"
      }
    },
    {
      "cell_type": "markdown",
      "source": [
        "**5.2 - Transformações Realizadas**\n",
        "\n",
        "**Arquivos Tratados:**\n",
        "- df_unidades.z\n",
        "- df_produtos.z\n",
        "- df_categorias.z\n",
        "- df_vendas.z\n",
        "\n",
        "**Arquivos Atualizados:**\n",
        "- [padronizado_categorias.ipynb](https://github.com/capacitabrasil/e4-6-18-unigex-cr-projeto03/blob/main/data%20science/tailany/padronizado_categorias.ipynb)\n",
        "- [padronizado_produtos.ipynb](https://github.com/capacitabrasil/e4-6-18-unigex-cr-projeto03/blob/main/data%20science/tailany/padronizado_produtos.ipynb)\n",
        "- [padronizado_unidades.ipynb](https://github.com/capacitabrasil/e4-6-18-unigex-cr-projeto03/blob/main/data%20science/tailany/padronizado_unidades.ipynb)\n",
        "- [padronizado_vendas.ipynb](https://github.com/capacitabrasil/e4-6-18-unigex-cr-projeto03/blob/main/data%20science/tailany/padronizado_vendas.ipynb)\n",
        "\n",
        "**Obs: Caminho para o arquivo:**\n",
        "\n",
        "`util/data/df_unidades.z`\n",
        "\n",
        "`util/data/df_produtos.z`\n",
        "\n",
        "`util/data/df_categorias.z`\n",
        "\n",
        "`util/data/df_vendas.z`\n",
        "\n",
        "**Observação:**  \n",
        "➡️ Cada arquivo atualizado mantém uma cópia dos dados originais internamente, permitindo comparação ou reversão, se necessário."
      ],
      "metadata": {
        "id": "FBUNUW7cPmm_"
      }
    },
    {
      "cell_type": "markdown",
      "source": [
        "**5.3 - Alterações nos Dataframes**"
      ],
      "metadata": {
        "id": "f4A-lGEiQBkh"
      }
    },
    {
      "cell_type": "markdown",
      "source": [
        "**5.3.1 - Produtos**\n",
        "\n",
        "**Modificações:**\n",
        "\n",
        "✅ Padronização textual: conversão de todas as strings para minúsculas.\n",
        "\n",
        "✅ Padronização dos nomes das colunas (snake_case).\n",
        "\n",
        "✅ Tratamento de espaços e caracteres especiais.\n",
        "\n",
        "✅ Transformação categórica: One-Hot Encoding aplicado para a coluna tipo_produto.\n",
        "\n",
        "✅ Normalização: Se presentes colunas como preco_unitario ou peso, aplicou-se Min-Max Scaling, trazendo os valores para a faixa de 0 a 1.\n",
        "\n",
        "**Resultados:**\n",
        "\n",
        "✅ Dados categóricos transformados corretamente;\n",
        "\n",
        "✅ Variáveis numéricas na mesma escala;\n",
        "\n",
        "✅ O arquivo atualizado inclui uma aba ou estrutura interna contendo os dados originais para consulta."
      ],
      "metadata": {
        "id": "767A-2Q5KlTH"
      }
    },
    {
      "cell_type": "markdown",
      "source": [
        "**5.3.2 - Categorias**\n",
        "\n",
        "**Modificações**\n",
        "\n",
        "✅ Padronização textual: todos os dados em minúsculas.\n",
        "\n",
        "✅ Padronização dos nomes das colunas (snake_case).\n",
        "\n",
        "✅ Tratamento de espaços e caracteres especiais.\n",
        "\n",
        "✅ Transformação categórica: Aplicado Label Encoding na coluna nome_categoria.\n",
        "\n",
        "**Resultados**\n",
        "\n",
        "✅ Dados categóricos sem inconsistências textuais.\n",
        "\n",
        "✅ Prontos para serem utilizados em análises, gráficos ou dashboards.\n",
        "\n",
        "✅ Arquivo mantém internamente os dados na forma original."
      ],
      "metadata": {
        "id": "TRwYT1B4LHM_"
      }
    },
    {
      "cell_type": "markdown",
      "source": [
        "**5.3.3 - Unidades**\n",
        "\n",
        "**Modificações**\n",
        "\n",
        "✅ Padronização textual: todos os textos convertidos para minúsculas (str.lower()).\n",
        "\n",
        "✅ Padronização dos nomes das colunas para snake_case.\n",
        "\n",
        "✅ Remoção de espaços extras e caracteres especiais nos dados e nas colunas.\n",
        "\n",
        "✅ Transformação de variáveis categóricas:\n",
        "Aplicado Label Encoding para a coluna região (se presente) e outras colunas categóricas.\n",
        "\n",
        "**Resultados**\n",
        "\n",
        "✅ Dados padronizados, textos uniformes;\n",
        "\n",
        "✅ Facilita agrupamentos, joins e análises, evitando erros por grafias diferentes;\n",
        "\n",
        "✅ O arquivo atualizado mantém uma cópia da versão original dos dados."
      ],
      "metadata": {
        "id": "HDKvA2t2NXr1"
      }
    },
    {
      "cell_type": "markdown",
      "source": [
        "**5.3.4 - Vendas**\n",
        "\n",
        "**Modificações**\n",
        "\n",
        "✅ Padronização textual: Dados de colunas como status_venda e canal_venda convertidos para minúsculas;\n",
        "\n",
        "✅ Padronização dos nomes das colunas (snake_case);\n",
        "\n",
        "✅ Remoção de espaços e padronização de nomenclatura;\n",
        "\n",
        "✅ Transformação categórica: Label Encoding em status_venda e canal_venda;\n",
        "\n",
        "✅ Padronização e normalização numérica:\n",
        "Colunas como quantidade, valor_unitario e valor_total receberam:\n",
        "Z-Score (Padronização) quando o foco é análise estatística e\n",
        "Min-Max Scaling quando necessário para algoritmos sensíveis à escala, como machine learning ou dashboards.\n",
        "\n",
        "**Resultados**\n",
        "\n",
        "✅ Variáveis numéricas estão na mesma escala, eliminando distorções;\n",
        "\n",
        "✅ Dados categóricos tratados e livres de inconsistências de texto;\n",
        "\n",
        "✅ O arquivo atualizado contém os dados tratados e também uma cópia do dataset original para validação e comparação."
      ],
      "metadata": {
        "id": "eJmFTmKxN0GN"
      }
    },
    {
      "cell_type": "markdown",
      "source": [
        "###5.4 - Validação Geral###\n",
        "\n",
        "✔️ Todos os DataFrames tiveram seus nomes de colunas e textos padronizados;\n",
        "\n",
        "✔️ Variáveis categóricas foram convertidas para formatos numéricos adequados;\n",
        "\n",
        "✔️ Variáveis numéricas estão normalizadas ou padronizadas, conforme necessidade;\n",
        "\n",
        "✔️ Dados originais estão preservados dentro dos arquivos atualizados;\n",
        "\n",
        "✔️ As transformações mantêm o sentido e a integridade dos dados originais."
      ],
      "metadata": {
        "id": "Rr4xRcVwOB6h"
      }
    },
    {
      "cell_type": "markdown",
      "source": [
        "Variáveis numéricas estão na mesma escala, eliminando distorções.\n",
        "Dados categóricos tratados e livres de inconsistências de texto.\n",
        "O arquivo atualizado contém os dados tratados e também uma cópia do dataset original para validação e comparação."
      ],
      "metadata": {
        "id": "4hXl6kn4N5y_"
      }
    },
    {
      "cell_type": "markdown",
      "source": [
        "###5.5 - Critérios de Aceitação Atendidos###\n",
        "\n",
        "🔸 Todas as variáveis estão em formatos consistentes e apropriados para análise e visualização;\n",
        "\n",
        "🔸 Nenhuma variável distorce resultados por estar fora de escala;\n",
        "\n",
        "🔸 Dados categóricos estão normalizados semanticamente, sem erros de texto;\n",
        "\n",
        "🔸 Documentação detalha claramente todas as transformações realizadas."
      ],
      "metadata": {
        "id": "ZTKeOzBzORRm"
      }
    },
    {
      "cell_type": "markdown",
      "source": [
        "###5.6 - Observação Importante###\n",
        "\n",
        "Todos os arquivos atualizados incluem internamente os dados originais. Isso garante rastreabilidade, possibilita validação, auditoria e, se necessário, retorno aos dados brutos."
      ],
      "metadata": {
        "id": "CVe5RtLwOchn"
      }
    },
    {
      "cell_type": "markdown",
      "source": [
        "###5.7 - Conclusão###\n",
        "\n",
        "As técnicas de normalização, padronização e transformação categórica foram aplicadas com sucesso em todos os DataFrames (unidades, produtos, categorias e vendas), garantindo dados prontos para análises precisas, modelagens estatísticas e construção de dashboards."
      ],
      "metadata": {
        "id": "C07Kou-iPFwK"
      }
    }
  ]
}