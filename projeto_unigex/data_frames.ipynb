{
  "nbformat": 4,
  "nbformat_minor": 0,
  "metadata": {
    "colab": {
      "provenance": []
    },
    "kernelspec": {
      "name": "python3",
      "display_name": "Python 3"
    },
    "language_info": {
      "name": "python"
    }
  },
  "cells": [
    {
      "cell_type": "code",
      "execution_count": null,
      "metadata": {
        "colab": {
          "base_uri": "https://localhost:8080/"
        },
        "id": "G_BWqdhmqC5K",
        "outputId": "c6876b55-0a9d-431f-8194-f4f1cc284a03"
      },
      "outputs": [
        {
          "output_type": "stream",
          "name": "stdout",
          "text": [
            "DataFrame de categorias salvo com sucesso!\n",
            "DataFrame de produtos salvo com sucesso!\n",
            "DataFrame de vendas salvo com sucesso!\n",
            "DataFrame de unidades salvo com sucesso!\n",
            "\n",
            "Todos os DataFrames foram salvos na pasta 'util/data'!\n"
          ]
        }
      ],
      "source": [
        "# Importação das bibliotecas necessárias\n",
        "import pandas as pd\n",
        "from joblib import dump\n",
        "import os\n",
        "\n",
        "# Criação da pasta util/data\n",
        "os.makedirs('util/data', exist_ok=True)\n",
        "\n",
        "## 1. DataFrame de Categorias ##\n",
        "# Carregamento do arquivo CSV de categorias\n",
        "df_categorias = pd.read_csv(\"categorias.csv\")\n",
        "\n",
        "# Salvando o DataFrame utilizando joblib\n",
        "dump(df_categorias, 'util/data/df_categorias.z')\n",
        "print(\"DataFrame de categorias salvo com sucesso!\")\n",
        "\n",
        "## 2. DataFrame de Produtos ##\n",
        "# Carregamento do arquivo CSV de produtos\n",
        "df_produtos = pd.read_csv(\"produtos.csv\")\n",
        "\n",
        "# Salvamos o DataFrame usando joblib\n",
        "dump(df_produtos, 'util/data/df_produtos.z')\n",
        "print(\"DataFrame de produtos salvo com sucesso!\")\n",
        "\n",
        "## 3. DataFrame de Vendas ##\n",
        "# Carregamento do arquivo CSV de vendas\n",
        "df_vendas = pd.read_csv(\"vendas.csv\")\n",
        "\n",
        "# Salvando o DataFrame usando joblib\n",
        "dump(df_vendas, 'util/data/df_vendas.z')\n",
        "print(\"DataFrame de vendas salvo com sucesso!\")\n",
        "\n",
        "## 4. DataFrame de Unidades ##\n",
        "# Carregando o arquivo CSV de unidades\n",
        "df_unidades = pd.read_csv(\"unidades.csv\")\n",
        "\n",
        "# Salvando o DataFrame usando joblib\n",
        "dump(df_unidades, 'util/data/df_unidades.z')\n",
        "print(\"DataFrame de unidades salvo com sucesso!\")\n",
        "\n",
        "print(\"\\nTodos os DataFrames foram salvos na pasta 'util/data'!\")"
      ]
    },
    {
      "cell_type": "code",
      "source": [
        "from joblib import load\n",
        "\n",
        "# Carregando os DataFrames salvos\n",
        "df_categorias = load('util/data/df_categorias.z')\n",
        "df_produtos = load('util/data/df_produtos.z')\n",
        "df_vendas = load('util/data/df_vendas.z')\n",
        "df_unidades = load('util/data/df_unidades.z')"
      ],
      "metadata": {
        "id": "5x9eLDzIqVaw"
      },
      "execution_count": null,
      "outputs": []
    }
  ]
}